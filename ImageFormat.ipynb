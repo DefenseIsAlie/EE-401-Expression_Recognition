{
  "cells": [
    {
      "cell_type": "code",
      "execution_count": 1,
      "metadata": {
        "id": "HKtrO8_1NTeK"
      },
      "outputs": [],
      "source": [
        "import numpy\n",
        "import matplotlib.pyplot as plt\n",
        "from PIL import Image\n",
        "import sklearn\n",
        "import xgboost as xgb"
      ]
    },
    {
      "cell_type": "code",
      "execution_count": 15,
      "metadata": {
        "id": "P5zfzrXHNeq3"
      },
      "outputs": [],
      "source": [
        "def _get_image_as_array(path: str):\n",
        "    im = Image.open(path)\n",
        "    im = im.convert(mode=\"L\")\n",
        "    \n",
        "    arr = numpy.asarray(im)\n",
        "\n",
        "    return arr\n"
      ]
    },
    {
      "cell_type": "code",
      "execution_count": 3,
      "metadata": {
        "id": "9B4kCJlHNeq4"
      },
      "outputs": [],
      "source": [
        "def _transform_complexArray_to_real(i_arr: numpy.ndarray):\n",
        "    ret = numpy.absolute(i_arr)\n",
        "    return ret"
      ]
    },
    {
      "cell_type": "code",
      "execution_count": 4,
      "metadata": {
        "id": "BCZ1HQAXRrL8"
      },
      "outputs": [],
      "source": [
        "def _high_pass_filter(arr: numpy.ndarray, radius: float):\n",
        "    ret = numpy.zeros((arr.shape[0],arr.shape[1]),dtype=complex)\n",
        "    for i in range(arr.shape[0]):\n",
        "        for j in range(arr.shape[1]):\n",
        "            if i/radius + j/radius - 1 < 0:\n",
        "            #if i > arr.shape[0]*radius and j > arr.shape[1]*radius:\n",
        "            #if (i - arr.shape[0]/2)**2 + (j - arr.shape[1]/2)**2 - radius**2 > 0:\n",
        "                ret[i][j] = arr[i][j]\n",
        "            else:\n",
        "                ret[i][j] = 0\n",
        "    return ret\n",
        "\n",
        "def _transform_circular(arr: numpy.ndarray):\n",
        "    ret = numpy.zeros((arr.shape[0], arr.shape[1]))\n",
        "    for i in range(arr.shape[0]):\n",
        "        for j in range(arr.shape[1]):\n",
        "            if (i - arr.shape[0]/2)**2 + (j - arr.shape[1]/2)**2 -(arr.shape[0]/2)**2 <= 0:\n",
        "                ret[i][j] = arr[i][j]\n",
        "            else:\n",
        "                ret[i][j] = 0\n",
        "    return ret\n",
        "\n"
      ]
    },
    {
      "cell_type": "code",
      "execution_count": 5,
      "metadata": {
        "id": "1A4DZkoeNeq6"
      },
      "outputs": [],
      "source": [
        "def _fft_edge_detector(path: str, radius: float, show: bool):\n",
        "    image_arr = _get_image_as_array(path)\n",
        "    #plt.figure(\"original\")\n",
        "    #plt.imshow(image_arr, interpolation='none')\n",
        "    #plt.title(\"Original image\")\n",
        "\n",
        "    image_fft = numpy.fft.fft2(image_arr)\n",
        "    #plt.figure(\"dft of image\")\n",
        "    #plt.imshow(_transform_complexArray_to_real(image_fft), interpolation='none')\n",
        "    #plt.title(\"dft of image\")\n",
        "    if show:\n",
        "        im = Image.fromarray(_transform_complexArray_to_real(image_fft))\n",
        "        im.show()\n",
        "\n",
        "    fft_filtered = _high_pass_filter(image_fft, radius)\n",
        "    #plt.figure(\"filtered dft\")\n",
        "    #plt.imshow(_transform_complexArray_to_real(fft_filtered), interpolation='none')\n",
        "    #plt.title(\"filtered dft\")\n",
        "    if show:\n",
        "        im = Image.fromarray(_transform_complexArray_to_real(fft_filtered))\n",
        "        im.show()\n",
        "\n",
        "    filtered_Image = numpy.fft.ifft2(fft_filtered)\n",
        "    #plt.figure(radius)\n",
        "    #plt.imshow(_transform_complexArray_to_real(filtered_Image), interpolation='none')\n",
        "    #plt.title(f\"Edge detected {radius}\")\n",
        "    if show:\n",
        "        im = Image.fromarray(_transform_complexArray_to_real(filtered_Image))\n",
        "        im.show()\n",
        "    return _transform_complexArray_to_real(filtered_Image)\n",
        "\n"
      ]
    },
    {
      "cell_type": "code",
      "execution_count": 6,
      "metadata": {
        "id": "UjWIfUhygdYR"
      },
      "outputs": [],
      "source": [
        "from scipy.signal import convolve2d\n",
        "from PIL.ImageFilter import GaussianBlur\n",
        "from PIL import Image\n",
        "import numpy\n",
        "def _robert_edge_detector(path: str, blur: float, passfilter: int):\n",
        "    #gx = numpy.array([[-1,0,1],[-2,0,2],[-1,0,1]])\n",
        "    #gy = numpy.array([[1,2,1],[0,0,0], [-1,-2,-1]])\n",
        "\n",
        "    gx = numpy.array([[1,0],[0,-1]])\n",
        "    gy = numpy.array([[0,1], [-1,0]])\n",
        "\n",
        "    im = Image.open(path).convert(\"L\")\n",
        "    im = numpy.asarray(im)\n",
        "\n",
        "    GX = convolve2d(im, gx, mode='same') \n",
        "    GY = convolve2d(im, gy, mode='same')\n",
        "\n",
        "    if blur > 0:\n",
        "        G = numpy.array([[0.1,0.1],[0.1,0.1]])\n",
        "        im = convolve2d(im, blur*G, mode='same')\n",
        "\n",
        "        GX = convolve2d(im, gx, mode='same') * 1/numpy.sum(G)\n",
        "        GY = convolve2d(im, gy, mode='same') * 1/numpy.sum(G)\n",
        "\n",
        "    \n",
        "    ret = numpy.absolute(GX) + numpy.absolute(GY)\n",
        "\n",
        "    if passfilter > 0:\n",
        "        th = passfilter\n",
        "        th = numpy.average(ret)\n",
        "        indxL = numpy.where(ret < th)\n",
        "        indxH = numpy.where(ret >= th)\n",
        "\n",
        "        ret[indxL] = 0\n",
        "        ret[indxH] += 50 \n",
        "\n",
        "    return ret\n"
      ]
    },
    {
      "cell_type": "code",
      "execution_count": 7,
      "metadata": {
        "id": "EyetH6rJgdYS"
      },
      "outputs": [],
      "source": [
        "from PIL import Image\n",
        "import numpy\n",
        "def _split_mat(arr: numpy.ndarray, blk_size: int = 16):\n",
        "    l = numpy.split(arr, list(range(blk_size,arr.shape[0],blk_size)))\n",
        "    split = []\n",
        "    for x in l:\n",
        "        tmp = numpy.split(x, list(range(blk_size,arr.shape[0],blk_size)), axis=1)\n",
        "        for y in tmp:\n",
        "            split.append(y)\n",
        "    return split\n",
        "# bin(4)\n",
        "def get_ubins():\n",
        "    bins = []\n",
        "    for i in range(256):\n",
        "        bin_form = bin(i)\n",
        "        bin_form = bin_form[2:]\n",
        "        trns = 0\n",
        "        #while len(bin_form) <= 8:\n",
        "         #  bin_form = '0' + bin_form\n",
        "        curr = bin_form[0]\n",
        "        prev = bin_form[0]\n",
        "        for x in bin_form:\n",
        "            prev = curr\n",
        "            curr = x\n",
        "            if curr != prev:\n",
        "                trns +=1\n",
        "        if trns <= 2:\n",
        "            bins.append(i)\n",
        "    return bins\n",
        "\n",
        "bins = get_ubins()\n",
        "\n",
        "def _lbph_algorithm(path: str, ubins: list):\n",
        "    im = Image.open(path).convert(\"L\")\n",
        "    im = numpy.array(im)\n",
        "    min_indx = 0\n",
        "    max_indx = im.shape[0]\n",
        "    im.setflags(write=True)\n",
        "\n",
        "    for i in range(max_indx):\n",
        "        for j in range(max_indx):\n",
        "\n",
        "            lbp = ''\n",
        "\n",
        "            if (i-1) > min_indx and (j-1) > min_indx:\n",
        "                if im[i][j] >= im[i-1][j-1]:\n",
        "                    lbp += '0'\n",
        "                else:\n",
        "                    lbp += '1'\n",
        "\n",
        "            if (i-1) > min_indx and (j) < max_indx:\n",
        "                if im[i][j] >= im[i-1][j]:\n",
        "                    lbp += '0'\n",
        "                else:\n",
        "                    lbp += '1'\n",
        "\n",
        "            if (i-1) > min_indx and (j+1) < max_indx:\n",
        "                if im[i][j] >= im[i-1][j+1]:\n",
        "                    lbp += '0'\n",
        "                else:\n",
        "                    lbp += '1'\n",
        "\n",
        "            if (i) < max_indx and (j+1) < max_indx:\n",
        "                if im[i][j] >= im[i][j+1]:\n",
        "                    lbp += '0'\n",
        "                else:\n",
        "                    lbp += '1'\n",
        "\n",
        "            if (i+1) < max_indx and (j+1) < max_indx:\n",
        "                if im[i][j] >= im[i+1][j+1]:\n",
        "                    lbp += '0'\n",
        "                else:\n",
        "                    lbp += '1'\n",
        "\n",
        "            if (i+1) < max_indx and (j) < max_indx:\n",
        "                if im[i][j] >= im[i+1][j]:\n",
        "                    lbp += '0'\n",
        "                else:\n",
        "                    lbp += '1'\n",
        "            \n",
        "            if (i+1) < max_indx and (j-1) > min_indx:\n",
        "                if im[i][j] >= im[i+1][j-1]:\n",
        "                    lbp += '0'\n",
        "                else:\n",
        "                    lbp += '1'\n",
        "\n",
        "            if (i) < max_indx and (j-1) > min_indx:\n",
        "                if im[i][j] >= im[i][j-1]:\n",
        "                    lbp += '0'\n",
        "                else:\n",
        "                    lbp += '1'\n",
        "\n",
        "            im[i][j] = int(lbp,2)\n",
        "    \n",
        "    tiles = []\n",
        "\n",
        "    tiles = _split_mat(im)\n",
        "    \n",
        "    hist = []\n",
        "\n",
        "    for tile in tiles:\n",
        "        o = numpy.histogram(tile, ubins)\n",
        "        hist.append(o[0])\n",
        "\n",
        "    hist = numpy.concatenate(hist)\n",
        "\n",
        "    return im , hist\n"
      ]
    },
    {
      "cell_type": "code",
      "execution_count": 8,
      "metadata": {
        "id": "xZG3_836Neq7"
      },
      "outputs": [],
      "source": [
        "import sklearn\n",
        "import os"
      ]
    },
    {
      "cell_type": "code",
      "execution_count": 9,
      "metadata": {
        "colab": {
          "base_uri": "https://localhost:8080/"
        },
        "id": "Dq5iMGbENkJ6",
        "outputId": "13212161-2d17-4ca7-fcdb-95e00ecfc4fc"
      },
      "outputs": [
        {
          "name": "stdout",
          "output_type": "stream",
          "text": [
            "Mounted at /content/drive\n"
          ]
        }
      ],
      "source": [
        "from google.colab import drive\n",
        "drive.mount('/content/drive')"
      ]
    },
    {
      "cell_type": "code",
      "execution_count": 10,
      "metadata": {
        "id": "BtvdRFiwNsXY"
      },
      "outputs": [],
      "source": [
        "!cp /content/drive/MyDrive/ColabData/FacialExpressionData/data.zip /content/data.zip"
      ]
    },
    {
      "cell_type": "code",
      "execution_count": 11,
      "metadata": {
        "id": "_3f1ttKjXLBd"
      },
      "outputs": [],
      "source": [
        "!rm -rf /content/savs"
      ]
    },
    {
      "cell_type": "code",
      "execution_count": 12,
      "metadata": {
        "id": "qUTT53R0Neq7"
      },
      "outputs": [],
      "source": [
        "import zipfile\n",
        "import os\n",
        "\n",
        "current_dir = os.getcwd()\n",
        "\n",
        "data_zip = current_dir + \"/data.zip\"\n",
        "data_path = current_dir + \"/data\"\n",
        "\n",
        "isColab = True\n",
        "\n",
        "if isColab:\n",
        "    os.mkdir(current_dir + \"/savs\")\n",
        "    with zipfile.ZipFile(data_zip,\"r\") as zip:\n",
        "        zip.extractall(data_path)"
      ]
    },
    {
      "cell_type": "code",
      "execution_count": 16,
      "metadata": {
        "id": "LZ2Gy9XFNeq8"
      },
      "outputs": [],
      "source": [
        "X = []\n",
        "Y = []\n",
        "\n",
        "TRAIN_PATH = \"/content/data/train/\"\n",
        "\n",
        "cls  = os.listdir(TRAIN_PATH)\n",
        "\n",
        "for i in range(len(cls)):\n",
        "    imgs = os.listdir(TRAIN_PATH+cls[i])\n",
        "    for img in imgs:\n",
        "        path = TRAIN_PATH + cls[i] + \"/\" + img\n",
        "        #im, hist  = _lbph_algorithm(path, bins)\n",
        "        im = _get_image_as_array(path)\n",
        "        X.append([im])\n",
        "        Y.append(i)\n",
        "\n",
        "\n",
        "    "
      ]
    },
    {
      "cell_type": "code",
      "execution_count": 17,
      "metadata": {
        "id": "LF82HChFNeq8"
      },
      "outputs": [],
      "source": [
        "X = numpy.concatenate(X)\n",
        "Y = numpy.asarray(Y)"
      ]
    },
    {
      "cell_type": "code",
      "execution_count": 18,
      "metadata": {
        "id": "gMaKOu8hNeq9"
      },
      "outputs": [],
      "source": [
        "from sklearn.decomposition import PCA\n",
        "\n",
        "#pca = PCA(n_components='mle')\n",
        "#pca.fit(X,Y)\n",
        "#X_new = pca.transform(X)\n",
        "X_new = X"
      ]
    },
    {
      "cell_type": "code",
      "execution_count": 19,
      "metadata": {
        "id": "m14CZQ7wNeq9"
      },
      "outputs": [],
      "source": [
        "#numpy.save('savs/X_fft_25', X_new)\n",
        "#numpy.save('savs/Y',Y)"
      ]
    },
    {
      "cell_type": "code",
      "execution_count": null,
      "metadata": {
        "id": "uNhYUtZDNeq-"
      },
      "outputs": [],
      "source": [
        "from sklearn.pipeline import make_pipeline\n",
        "from sklearn.preprocessing import StandardScaler\n",
        "from sklearn.svm import SVC\n",
        "\n",
        "#clf = make_pipeline(StandardScaler(), SVC())\n",
        "#clf.fit(X_new, Y)\n",
        "\n",
        "clf = xgb.XGBClassifier(tree_method=\"exact\", max_depth=20)\n",
        "\n",
        "clf.fit(X_new,Y)"
      ]
    },
    {
      "cell_type": "code",
      "execution_count": null,
      "metadata": {
        "id": "O8nN768FhOUF"
      },
      "outputs": [],
      "source": []
    },
    {
      "cell_type": "code",
      "execution_count": null,
      "metadata": {
        "id": "v3_lJno5Neq-"
      },
      "outputs": [],
      "source": [
        "\n",
        "TEST_PATH = \"/content/data/validation/\"\n",
        "\n",
        "X_test = []\n",
        "Y_test = []\n",
        "\n",
        "cls  = os.listdir(TEST_PATH)\n",
        "\n",
        "for i in range(len(cls)):\n",
        "    imgs = os.listdir(TEST_PATH+cls[i])\n",
        "    for img in imgs:\n",
        "        path = TEST_PATH + cls[i] + \"/\" + img\n",
        "        #im, hist = _lbph_algorithm(path, bins)\n",
        "        im = _get_image_as_array(path)\n",
        "        X_test.append([im])\n",
        "        Y_test.append(i)\n",
        "\n",
        "X_test = numpy.concatenate(X_test)\n",
        "Y_test = numpy.asarray(Y_test)\n",
        "\n",
        "#X_test = pca.transform(X_test)\n",
        "\n",
        "Y_pred = clf.predict(X_test)\n",
        "\n",
        "#numpy.save('savs/X_test', X_test)\n",
        "#numpy.save('savs/Y_test',Y_test)\n",
        "#numpy.save('savs/Y_pred', Y_pred)"
      ]
    },
    {
      "cell_type": "code",
      "execution_count": null,
      "metadata": {
        "id": "EsbepsKuqPTR"
      },
      "outputs": [],
      "source": [
        "Y_pred = clf.predict(X_test)"
      ]
    },
    {
      "cell_type": "code",
      "execution_count": null,
      "metadata": {
        "id": "w0Jk-I-CNeq_"
      },
      "outputs": [],
      "source": [
        "from sklearn.metrics import accuracy_score\n",
        "\n",
        "p = accuracy_score(Y_test, Y_pred)\n",
        "\n",
        "print(p)"
      ]
    },
    {
      "cell_type": "code",
      "execution_count": null,
      "metadata": {
        "id": "CdfZuJeENeq_"
      },
      "outputs": [],
      "source": [
        "#import pickle\n",
        "#sav_non_pca = 'savs/svm_classifier_fft_25'\n",
        "#pickle.dump(clf,open(sav_non_pca,'wb'))\n",
        "\n",
        "#sav_pca = 'savs/pca_mle'\n",
        "#pickle.dump(pca, open(sav_pca, 'wb'))"
      ]
    },
    {
      "cell_type": "code",
      "execution_count": null,
      "metadata": {
        "id": "oKSml8egOWRd"
      },
      "outputs": [],
      "source": [
        "#!zip -r /content/savs_svm_fft25.zip savs/"
      ]
    },
    {
      "cell_type": "code",
      "execution_count": null,
      "metadata": {
        "id": "lgnLMpqfOdGu"
      },
      "outputs": [],
      "source": [
        "#!cp /content/savs_svm_fft25.zip /content/drive/MyDrive/ColabData/FacialExpressionData/savs_svm_fft25.zip"
      ]
    },
    {
      "cell_type": "code",
      "execution_count": null,
      "metadata": {
        "id": "9C_xk6cod0zq"
      },
      "outputs": [],
      "source": [
        "print(X_test.shape)"
      ]
    },
    {
      "cell_type": "code",
      "execution_count": null,
      "metadata": {
        "id": "0XsfxszGaIx3"
      },
      "outputs": [],
      "source": [
        "print(p)"
      ]
    }
  ],
  "metadata": {
    "accelerator": "GPU",
    "colab": {
      "collapsed_sections": [],
      "provenance": []
    },
    "kernelspec": {
      "display_name": "Python 3.10.5 64-bit",
      "language": "python",
      "name": "python3"
    },
    "language_info": {
      "codemirror_mode": {
        "name": "ipython",
        "version": 3
      },
      "file_extension": ".py",
      "mimetype": "text/x-python",
      "name": "python",
      "nbconvert_exporter": "python",
      "pygments_lexer": "ipython3",
      "version": "3.10.8"
    },
    "vscode": {
      "interpreter": {
        "hash": "6161fe9b9c43b301130e173a08803ad10c6ead99ad2108f094668137e7b2b542"
      }
    }
  },
  "nbformat": 4,
  "nbformat_minor": 0
}
