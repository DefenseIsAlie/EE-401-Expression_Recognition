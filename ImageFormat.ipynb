{
  "cells": [
    {
      "cell_type": "code",
      "execution_count": 1,
      "metadata": {
        "id": "HKtrO8_1NTeK"
      },
      "outputs": [],
      "source": [
        "import numpy\n",
        "import matplotlib.pyplot as plt\n",
        "from PIL import Image\n",
        "import sklearn"
      ]
    },
    {
      "cell_type": "code",
      "execution_count": 2,
      "metadata": {},
      "outputs": [],
      "source": [
        "def _get_image_as_array(path: str):\n",
        "    im = Image.open(path)\n",
        "    im = im.convert(mode=\"L\")\n",
        "    \n",
        "    arr = numpy.asarray(im)\n",
        "\n",
        "    return arr\n"
      ]
    },
    {
      "cell_type": "code",
      "execution_count": 3,
      "metadata": {},
      "outputs": [],
      "source": [
        "def _transform_complexArray_to_real(i_arr: numpy.ndarray):\n",
        "    ret = numpy.absolute(i_arr)\n",
        "    return ret"
      ]
    },
    {
      "cell_type": "code",
      "execution_count": 4,
      "metadata": {
        "colab": {
          "base_uri": "https://localhost:8080/"
        },
        "id": "BCZ1HQAXRrL8",
        "outputId": "b7b8945e-1d32-4042-a419-5e6946943ef3"
      },
      "outputs": [],
      "source": [
        "def _high_pass_filter(arr: numpy.ndarray, radius: float):\n",
        "    ret = numpy.zeros((arr.shape[0],arr.shape[1]),dtype=complex)\n",
        "    for i in range(arr.shape[0]):\n",
        "        for j in range(arr.shape[1]):\n",
        "            if (i - arr.shape[0]/2)**2 + (j - arr.shape[1]/2)**2  - radius**2 < 0:\n",
        "            #if i > arr.shape[0]*radius and j > arr.shape[1]*radius:\n",
        "            #if (i - arr.shape[0]/2)**2 + (j - arr.shape[1]/2)**2 - radius**2 > 0:\n",
        "                ret[i][j] = arr[i][j]\n",
        "            else:\n",
        "                ret[i][j] = 0\n",
        "    return ret\n"
      ]
    },
    {
      "cell_type": "code",
      "execution_count": 5,
      "metadata": {},
      "outputs": [],
      "source": [
        "def _fft_edge_detector(path: str, radius: float, show: bool):\n",
        "    image_arr = _get_image_as_array(path)\n",
        "    #plt.figure(\"original\")\n",
        "    #plt.imshow(image_arr, interpolation='none')\n",
        "    #plt.title(\"Original image\")\n",
        "\n",
        "    image_fft = numpy.fft.fft2(image_arr)\n",
        "    #plt.figure(\"dft of image\")\n",
        "    #plt.imshow(_transform_complexArray_to_real(image_fft), interpolation='none')\n",
        "    #plt.title(\"dft of image\")\n",
        "    if show:\n",
        "        im = Image.fromarray(_transform_complexArray_to_real(image_fft))\n",
        "        im.show()\n",
        "\n",
        "    fft_filtered = _high_pass_filter(image_fft, radius)\n",
        "    #plt.figure(\"filtered dft\")\n",
        "    #plt.imshow(_transform_complexArray_to_real(fft_filtered), interpolation='none')\n",
        "    #plt.title(\"filtered dft\")\n",
        "    if show:\n",
        "        im = Image.fromarray(_transform_complexArray_to_real(fft_filtered))\n",
        "        im.show()\n",
        "\n",
        "    filtered_Image = numpy.fft.ifft2(fft_filtered)\n",
        "    #plt.figure(radius)\n",
        "    #plt.imshow(_transform_complexArray_to_real(filtered_Image), interpolation='none')\n",
        "    #plt.title(f\"Edge detected {radius}\")\n",
        "    if show:\n",
        "        im = Image.fromarray(_transform_complexArray_to_real(filtered_Image))\n",
        "        im.show()\n",
        "    return _transform_complexArray_to_real(filtered_Image)\n",
        "\n"
      ]
    },
    {
      "cell_type": "code",
      "execution_count": 6,
      "metadata": {},
      "outputs": [
        {
          "data": {
            "text/plain": [
              "array([[17.77699843, 24.75465755, 29.26102478, ..., 15.03630132,\n",
              "        17.51502582, 16.23425728],\n",
              "       [ 9.96779005,  7.2033433 ,  5.03003993, ...,  9.70780434,\n",
              "         7.37657884, 11.15663327],\n",
              "       [ 9.10997712, 15.1356791 ,  2.40186936, ..., 14.89723661,\n",
              "         3.86507596,  6.95489447],\n",
              "       ...,\n",
              "       [33.80703327,  8.06005753, 10.77794106, ...,  0.36463699,\n",
              "        11.28561539, 16.50635342],\n",
              "       [20.14260652, 25.05587529, 22.13826323, ..., 35.63724605,\n",
              "         5.04147975, 12.41605301],\n",
              "       [22.44343853, 20.63012736, 29.19977843, ..., 35.35803542,\n",
              "        45.9099621 , 24.96363455]])"
            ]
          },
          "execution_count": 6,
          "metadata": {},
          "output_type": "execute_result"
        }
      ],
      "source": [
        "# r = 30 works good\n",
        "_fft_edge_detector(\"sample/0.jpg\",30, False)"
      ]
    },
    {
      "cell_type": "code",
      "execution_count": 7,
      "metadata": {},
      "outputs": [],
      "source": [
        "import sklearn\n",
        "import os"
      ]
    },
    {
      "cell_type": "code",
      "execution_count": 8,
      "metadata": {},
      "outputs": [],
      "source": [
        "X = []\n",
        "Y = []\n",
        "\n",
        "cls  = os.listdir(\"data/train/\")\n",
        "\n",
        "for i in range(len(cls)):\n",
        "    imgs = os.listdir(\"data/train/\"+cls[i])\n",
        "    for img in imgs:\n",
        "        path = \"data/train/\"+ \"/\" + cls[i] + \"/\" + img\n",
        "        im = _fft_edge_detector(path, 30, False)\n",
        "        X.append(im.flatten())\n",
        "        Y.append(i)\n",
        "    "
      ]
    },
    {
      "cell_type": "code",
      "execution_count": null,
      "metadata": {},
      "outputs": [],
      "source": [
        "X = numpy.concatenate(X)\n",
        "Y = numpy.asarray(Y)"
      ]
    },
    {
      "cell_type": "code",
      "execution_count": 24,
      "metadata": {},
      "outputs": [],
      "source": [
        "from sklearn.decomposition import PCA\n",
        "\n",
        "pca = PCA(n_components='mle')\n",
        "pca.fit(X,Y)\n",
        "X_new = pca.transform(X)"
      ]
    },
    {
      "cell_type": "code",
      "execution_count": 25,
      "metadata": {},
      "outputs": [],
      "source": [
        "numpy.save('X_pca_result', X_new)"
      ]
    },
    {
      "cell_type": "code",
      "execution_count": 26,
      "metadata": {},
      "outputs": [],
      "source": [
        "from sklearn.pipeline import make_pipeline\n",
        "from sklearn.preprocessing import StandardScaler\n",
        "from sklearn.svm import SVC\n",
        "\n",
        "clf = make_pipeline(StandardScaler(), SVC())\n",
        "clf.fit(X_new, Y)"
      ]
    },
    {
      "cell_type": "code",
      "execution_count": 21,
      "metadata": {},
      "outputs": [
        {
          "name": "stdout",
          "output_type": "stream",
          "text": [
            "[5]\n"
          ]
        }
      ],
      "source": [
        "\n",
        "\n",
        "\n",
        "x_pred = _fft_edge_detector(\"data/validation/angry/5010.jpg\", 30, False).flatten()\n",
        "x_pred = pca.transform([x_pred])\n",
        "p = clf.predict([x_pred])\n",
        "\n",
        "clss = os.listdir(\"data/train/\")\n",
        "\n",
        "print(p)"
      ]
    },
    {
      "cell_type": "code",
      "execution_count": 22,
      "metadata": {},
      "outputs": [],
      "source": [
        "import pickle\n",
        "sav_non_pca = 'svm_classifier_with_pca'\n",
        "pickle.dump(clf,open(sav_non_pca,'wb'))"
      ]
    }
  ],
  "metadata": {
    "colab": {
      "collapsed_sections": [],
      "provenance": []
    },
    "kernelspec": {
      "display_name": "Python 3.10.5 64-bit",
      "language": "python",
      "name": "python3"
    },
    "language_info": {
      "codemirror_mode": {
        "name": "ipython",
        "version": 3
      },
      "file_extension": ".py",
      "mimetype": "text/x-python",
      "name": "python",
      "nbconvert_exporter": "python",
      "pygments_lexer": "ipython3",
      "version": "3.10.5"
    },
    "vscode": {
      "interpreter": {
        "hash": "6161fe9b9c43b301130e173a08803ad10c6ead99ad2108f094668137e7b2b542"
      }
    }
  },
  "nbformat": 4,
  "nbformat_minor": 0
}
