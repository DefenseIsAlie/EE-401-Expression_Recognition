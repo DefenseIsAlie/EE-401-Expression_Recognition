{
  "cells": [
    {
      "cell_type": "code",
      "execution_count": 1,
      "metadata": {
        "id": "HKtrO8_1NTeK"
      },
      "outputs": [],
      "source": [
        "import numpy\n",
        "import matplotlib.pyplot as plt\n",
        "from PIL import Image\n",
        "import sklearn"
      ]
    },
    {
      "cell_type": "code",
      "execution_count": 2,
      "metadata": {},
      "outputs": [],
      "source": [
        "def _get_image_as_array(path: str):\n",
        "    im = Image.open(path)\n",
        "    im = im.convert(mode=\"L\")\n",
        "    \n",
        "    arr = numpy.asarray(im)\n",
        "\n",
        "    return arr\n"
      ]
    },
    {
      "cell_type": "code",
      "execution_count": 3,
      "metadata": {},
      "outputs": [],
      "source": [
        "def _transform_complexArray_to_real(i_arr: numpy.ndarray):\n",
        "    ret = numpy.absolute(i_arr)\n",
        "    return ret"
      ]
    },
    {
      "cell_type": "code",
      "execution_count": 9,
      "metadata": {
        "colab": {
          "base_uri": "https://localhost:8080/"
        },
        "id": "BCZ1HQAXRrL8",
        "outputId": "b7b8945e-1d32-4042-a419-5e6946943ef3"
      },
      "outputs": [],
      "source": [
        "def _high_pass_filter(arr: numpy.ndarray, radius: float):\n",
        "    ret = numpy.zeros((arr.shape[0],arr.shape[1]),dtype=complex)\n",
        "    for i in range(arr.shape[0]):\n",
        "        for j in range(arr.shape[1]):\n",
        "            if (i - arr.shape[0]/2)**2 + (j - arr.shape[1]/2)**2  - radius**2 < 0:\n",
        "            #if i > arr.shape[0]*radius and j > arr.shape[1]*radius:\n",
        "            #if (i - arr.shape[0]/2)**2 + (j - arr.shape[1]/2)**2 - radius**2 > 0:\n",
        "                ret[i][j] = arr[i][j]\n",
        "            else:\n",
        "                ret[i][j] = 0\n",
        "    return ret\n",
        "\n",
        "def _transform_circular(arr: numpy.ndarray):\n",
        "    ret = numpy.zeros((arr.shape[0], arr.shape[1]))\n",
        "    for i in range(arr.shape[0]):\n",
        "        for j in range(arr.shape[1]):\n",
        "            if (i - arr.shape[0]/2)**2 + (j - arr.shape[1]/2)**2 -(arr.shape[0]/2)**2 <= 0:\n",
        "                ret[i][j] = arr[i][j]\n",
        "            else:\n",
        "                ret[i][j] = 0\n",
        "    return ret\n",
        "\n"
      ]
    },
    {
      "cell_type": "code",
      "execution_count": 7,
      "metadata": {},
      "outputs": [],
      "source": [
        "def _fft_edge_detector(path: str, radius: float, show: bool):\n",
        "    image_arr = _get_image_as_array(path)\n",
        "    #plt.figure(\"original\")\n",
        "    #plt.imshow(image_arr, interpolation='none')\n",
        "    #plt.title(\"Original image\")\n",
        "\n",
        "    image_fft = numpy.fft.fft2(image_arr)\n",
        "    #plt.figure(\"dft of image\")\n",
        "    #plt.imshow(_transform_complexArray_to_real(image_fft), interpolation='none')\n",
        "    #plt.title(\"dft of image\")\n",
        "    if show:\n",
        "        im = Image.fromarray(_transform_complexArray_to_real(image_fft))\n",
        "        im.show()\n",
        "\n",
        "    fft_filtered = _high_pass_filter(image_fft, radius)\n",
        "    #plt.figure(\"filtered dft\")\n",
        "    #plt.imshow(_transform_complexArray_to_real(fft_filtered), interpolation='none')\n",
        "    #plt.title(\"filtered dft\")\n",
        "    if show:\n",
        "        im = Image.fromarray(_transform_complexArray_to_real(fft_filtered))\n",
        "        im.show()\n",
        "\n",
        "    filtered_Image = numpy.fft.ifft2(fft_filtered)\n",
        "    #plt.figure(radius)\n",
        "    #plt.imshow(_transform_complexArray_to_real(filtered_Image), interpolation='none')\n",
        "    #plt.title(f\"Edge detected {radius}\")\n",
        "    if show:\n",
        "        im = Image.fromarray(_transform_complexArray_to_real(filtered_Image))\n",
        "        im.show()\n",
        "    return _transform_circular( _transform_complexArray_to_real(filtered_Image))\n",
        "\n"
      ]
    },
    {
      "cell_type": "code",
      "execution_count": 13,
      "metadata": {},
      "outputs": [],
      "source": [
        "import sklearn\n",
        "import os"
      ]
    },
    {
      "cell_type": "code",
      "execution_count": null,
      "metadata": {},
      "outputs": [],
      "source": [
        "import zipfile\n",
        "import os\n",
        "\n",
        "current_dir = os.getcwd()\n",
        "\n",
        "data_zip = current_dir + \"/data.zip\"\n",
        "data_path = current_dir + \"/data\"\n",
        "\n",
        "isColab = False\n",
        "\n",
        "if isColab:\n",
        "    os.mkdir(current_dir + \"/savs\")\n",
        "    with zipfile.ZipFile(data_zip,\"r\") as zip:\n",
        "        zip.extractall(data_path)"
      ]
    },
    {
      "cell_type": "code",
      "execution_count": 8,
      "metadata": {},
      "outputs": [],
      "source": [
        "X = []\n",
        "Y = []\n",
        "\n",
        "TRAIN_PATH = \"data/train/\"\n",
        "\n",
        "cls  = os.listdir(TRAIN_PATH)\n",
        "\n",
        "for i in range(len(cls)):\n",
        "    imgs = os.listdir(TRAIN_PATH+cls[i])\n",
        "    for img in imgs:\n",
        "        path = TRAIN_PATH + cls[i] + \"/\" + img\n",
        "        im = _fft_edge_detector(path, 30, False)\n",
        "        X.append([im.flatten()])\n",
        "        Y.append(i)\n",
        "\n",
        "\n",
        "    "
      ]
    },
    {
      "cell_type": "code",
      "execution_count": null,
      "metadata": {},
      "outputs": [],
      "source": [
        "X = numpy.concatenate(X)\n",
        "Y = numpy.asarray(Y)"
      ]
    },
    {
      "cell_type": "code",
      "execution_count": 24,
      "metadata": {},
      "outputs": [],
      "source": [
        "from sklearn.decomposition import PCA\n",
        "\n",
        "pca = PCA(.90)\n",
        "pca.fit(X,Y)\n",
        "X_new = pca.transform(X)"
      ]
    },
    {
      "cell_type": "code",
      "execution_count": 25,
      "metadata": {},
      "outputs": [],
      "source": [
        "numpy.save('savs/X_pca_0.9', X_new)\n",
        "numpy.save('savs/Y',Y)"
      ]
    },
    {
      "cell_type": "code",
      "execution_count": 26,
      "metadata": {},
      "outputs": [],
      "source": [
        "from sklearn.pipeline import make_pipeline\n",
        "from sklearn.preprocessing import StandardScaler\n",
        "from sklearn.svm import SVC\n",
        "\n",
        "clf = make_pipeline(StandardScaler(), SVC())\n",
        "clf.fit(X_new, Y)"
      ]
    },
    {
      "cell_type": "code",
      "execution_count": 21,
      "metadata": {},
      "outputs": [
        {
          "name": "stdout",
          "output_type": "stream",
          "text": [
            "[5]\n"
          ]
        }
      ],
      "source": [
        "\n",
        "TEST_PATH = \"data/validation/\"\n",
        "\n",
        "X_test = []\n",
        "Y_test = []\n",
        "\n",
        "cls  = os.listdir(TEST_PATH)\n",
        "\n",
        "for i in range(len(cls)):\n",
        "    imgs = os.listdir(TEST_PATH+cls[i])\n",
        "    for img in imgs:\n",
        "        path = TEST_PATH + cls[i] + \"/\" + img\n",
        "        im = _fft_edge_detector(path, 30, False)\n",
        "        X_test.append([im.flatten()])\n",
        "        Y_test.append(i)\n",
        "\n",
        "X_test = numpy.concatenate(X_test)\n",
        "Y_test = numpy.asarray(Y_test)\n",
        "\n",
        "X_test = pca.transform(X_test)\n",
        "\n",
        "Y_pred = clf.predict(X_test)\n",
        "\n",
        "numpy.save('savs/X_test_pca_0.9', X_test)\n",
        "numpy.save('savs/Y_test',Y_test)\n",
        "numpy.save('savs/Y_pred', Y_pred)"
      ]
    },
    {
      "cell_type": "code",
      "execution_count": null,
      "metadata": {},
      "outputs": [],
      "source": [
        "from sklearn.metrics import accuracy_score\n",
        "\n",
        "p = accuracy_score(Y_test, Y_pred)"
      ]
    },
    {
      "cell_type": "code",
      "execution_count": 22,
      "metadata": {},
      "outputs": [],
      "source": [
        "import pickle\n",
        "sav_non_pca = 'savs/svm_classifier_with_pca'\n",
        "pickle.dump(clf,open(sav_non_pca,'wb'))\n",
        "\n",
        "sav_pca = 'savs/pca_0.9'\n",
        "pickle.dump(pca, open(sav_pca, 'wb'))"
      ]
    }
  ],
  "metadata": {
    "colab": {
      "collapsed_sections": [],
      "provenance": []
    },
    "kernelspec": {
      "display_name": "Python 3.10.7 ('.venv': venv)",
      "language": "python",
      "name": "python3"
    },
    "language_info": {
      "codemirror_mode": {
        "name": "ipython",
        "version": 3
      },
      "file_extension": ".py",
      "mimetype": "text/x-python",
      "name": "python",
      "nbconvert_exporter": "python",
      "pygments_lexer": "ipython3",
      "version": "3.10.7"
    },
    "vscode": {
      "interpreter": {
        "hash": "7462166010d428c67214032e9cf7fb91b617b5ed97c2e8239881a960167c073a"
      }
    }
  },
  "nbformat": 4,
  "nbformat_minor": 0
}
