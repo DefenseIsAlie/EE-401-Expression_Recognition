{
  "cells": [
    {
      "cell_type": "code",
      "execution_count": null,
      "metadata": {
        "id": "HKtrO8_1NTeK"
      },
      "outputs": [],
      "source": [
        "import numpy\n",
        "from PIL import Image\n",
        "import sklearn"
      ]
    },
    {
      "cell_type": "code",
      "execution_count": null,
      "metadata": {
        "colab": {
          "base_uri": "https://localhost:8080/"
        },
        "id": "fLLju0DoPDAv",
        "outputId": "1b2baaaf-e7e8-4d79-b36a-fb18330d1f58"
      },
      "outputs": [],
      "source": [
        "im = Image.open(\"sample/download.jpg\")\n",
        "im.show()\n",
        "print(im.format, im.size, im.mode)\n"
      ]
    },
    {
      "cell_type": "code",
      "execution_count": null,
      "metadata": {
        "colab": {
          "base_uri": "https://localhost:8080/"
        },
        "id": "-Tra7doUQoIK",
        "outputId": "88a1f683-62bb-40be-b601-c11b4a25a489"
      },
      "outputs": [],
      "source": [
        "im = im.convert(\"L\")\n",
        "im = im.resize((50,50))\n",
        "im.show()\n",
        "print(im.format, im.size, im.mode)"
      ]
    },
    {
      "cell_type": "code",
      "execution_count": null,
      "metadata": {
        "colab": {
          "base_uri": "https://localhost:8080/"
        },
        "id": "ebk3ASSPQn79",
        "outputId": "953dbe0e-3a63-4797-85a7-a185796306f0"
      },
      "outputs": [],
      "source": [
        "arr = numpy.asarray(im)\n",
        "print(arr)"
      ]
    },
    {
      "cell_type": "code",
      "execution_count": null,
      "metadata": {
        "colab": {
          "base_uri": "https://localhost:8080/"
        },
        "id": "KHcLT8gIRMcW",
        "outputId": "9cc0f103-fc55-46f7-c574-3f6f4cfad89a"
      },
      "outputs": [],
      "source": [
        "arr = numpy.fft.fft2(arr)"
      ]
    },
    {
      "cell_type": "code",
      "execution_count": null,
      "metadata": {
        "colab": {
          "base_uri": "https://localhost:8080/"
        },
        "id": "BCZ1HQAXRrL8",
        "outputId": "b7b8945e-1d32-4042-a419-5e6946943ef3"
      },
      "outputs": [],
      "source": [
        "def high_pass_filter():\n",
        "    pass"
      ]
    }
  ],
  "metadata": {
    "colab": {
      "collapsed_sections": [],
      "provenance": []
    },
    "kernelspec": {
      "display_name": "Python 3.10.5 64-bit",
      "language": "python",
      "name": "python3"
    },
    "language_info": {
      "codemirror_mode": {
        "name": "ipython",
        "version": 3
      },
      "file_extension": ".py",
      "mimetype": "text/x-python",
      "name": "python",
      "nbconvert_exporter": "python",
      "pygments_lexer": "ipython3",
      "version": "3.10.5"
    },
    "vscode": {
      "interpreter": {
        "hash": "6161fe9b9c43b301130e173a08803ad10c6ead99ad2108f094668137e7b2b542"
      }
    }
  },
  "nbformat": 4,
  "nbformat_minor": 0
}
